{
  "nbformat": 4,
  "nbformat_minor": 0,
  "metadata": {
    "colab": {
      "name": "RoadSigns - CNN model with hyperopt.ipynb",
      "provenance": [],
      "collapsed_sections": [],
      "mount_file_id": "1OFKNPN3PELk_D529uXGjS6WjxmHOXq-3",
      "authorship_tag": "ABX9TyOTmPq+VQbG8dtUrz+vgtRk",
      "include_colab_link": true
    },
    "kernelspec": {
      "name": "python3",
      "display_name": "Python 3"
    },
    "accelerator": "GPU"
  },
  "cells": [
    {
      "cell_type": "markdown",
      "metadata": {
        "id": "view-in-github",
        "colab_type": "text"
      },
      "source": [
        "<a href=\"https://colab.research.google.com/github/tetysionc/RoadSignsRecognition/blob/master/RoadSigns_CNN_model_with_hyperopt.ipynb\" target=\"_parent\"><img src=\"https://colab.research.google.com/assets/colab-badge.svg\" alt=\"Open In Colab\"/></a>"
      ]
    },
    {
      "cell_type": "code",
      "metadata": {
        "id": "JLUm3B-PSFwg",
        "colab_type": "code",
        "colab": {}
      },
      "source": [
        "import pandas as pd\n",
        "import numpy as np\n",
        "import os\n",
        "import datetime\n",
        "\n",
        "import tensorflow as tf\n",
        "import matplotlib.pyplot as plt\n",
        "\n",
        "from tensorflow.keras.models import Sequential\n",
        "from tensorflow.keras.layers import Conv2D, MaxPool2D, Dense, Flatten, Dropout\n",
        "from tensorflow.keras.utils import to_categorical\n",
        "from skimage import color, exposure\n",
        "from sklearn.metrics import accuracy_score\n",
        "from hyperopt import hp, STATUS_OK, tpe, Trials, fmin\n",
        "%load_ext tensorboard"
      ],
      "execution_count": 0,
      "outputs": []
    },
    {
      "cell_type": "code",
      "metadata": {
        "id": "GaxMvGkGTBCi",
        "colab_type": "code",
        "colab": {}
      },
      "source": [
        "train = pd.read_pickle('train.p')\n",
        "test = pd.read_pickle('test.p')\n",
        "\n",
        "X_train, y_train = train['features'], train['labels']\n",
        "X_test, y_test = test['features'], test['labels']"
      ],
      "execution_count": 0,
      "outputs": []
    },
    {
      "cell_type": "code",
      "metadata": {
        "id": "2tUhWTheTA2o",
        "colab_type": "code",
        "colab": {}
      },
      "source": [
        "if y_train.ndim ==1: y_train = to_categorical(y_train)\n",
        "if y_test.ndim ==1: y_test = to_categorical(y_test)"
      ],
      "execution_count": 0,
      "outputs": []
    },
    {
      "cell_type": "code",
      "metadata": {
        "id": "cW7l_DutTMiC",
        "colab_type": "code",
        "colab": {}
      },
      "source": [
        "input_size = X_train.shape[1:]\n",
        "num_classes = y_train.shape[1]"
      ],
      "execution_count": 0,
      "outputs": []
    },
    {
      "cell_type": "markdown",
      "metadata": {
        "id": "BtGJKJheY_On",
        "colab_type": "text"
      },
      "source": [
        "# Hyperparameters (batch size and dropout) set rigid"
      ]
    },
    {
      "cell_type": "code",
      "metadata": {
        "id": "jiZoaVt2TQOk",
        "colab_type": "code",
        "colab": {}
      },
      "source": [
        "def train_model(model, X_train, y_train, params_fit={}):\n",
        "  model.compile(loss='categorical_crossentropy', optimizer='Adam', metrics = ['accuracy'])\n",
        "  \n",
        "  logdir = os.path.join('logs', datetime.datetime.now().strftime('%Y%m%d-%H%M%S'))\n",
        "  tensorboard_callbacks = tf.keras.callbacks.TensorBoard(logdir, histogram_freq=1)\n",
        "  \n",
        "  model.fit(\n",
        "      X_train, \n",
        "      y_train,\n",
        "      batch_size = params_fit.get('batch_size', 128),\n",
        "      epochs = params_fit.get('epochs',10),\n",
        "      verbose = params_fit.get('verbose', 1),\n",
        "      validation_data = params_fit.get('validation_data',(X_train, y_train)),\n",
        "      callbacks = [tensorboard_callbacks]\n",
        "      )\n",
        "  \n",
        "  return model"
      ],
      "execution_count": 0,
      "outputs": []
    },
    {
      "cell_type": "code",
      "metadata": {
        "id": "GIISKT4HTWAw",
        "colab_type": "code",
        "colab": {}
      },
      "source": [
        "def predict(model_trained, X_test, y_test, scoring=accuracy_score):\n",
        "\n",
        "  y_test_norm = np.argmax(y_test, axis = 1)\n",
        "  y_pred_prob = model_trained.predict(X_test)\n",
        "  y_pred = np.argmax(y_pred_prob, axis = 1)\n",
        "\n",
        "  return accuracy_score(y_test_norm, y_pred)"
      ],
      "execution_count": 0,
      "outputs": []
    },
    {
      "cell_type": "code",
      "metadata": {
        "id": "HpF9Zv8vTv6l",
        "colab_type": "code",
        "colab": {}
      },
      "source": [
        "def get_cnn_v6(input_size, num_classes):\n",
        "  return Sequential([\n",
        "                     \n",
        "  Conv2D(filters=32, kernel_size=(3,3), activation='relu', input_shape=input_size),\n",
        "  Conv2D(filters=64, kernel_size=(3,3), activation='relu', padding='same'),\n",
        "  MaxPool2D(),\n",
        "  Dropout(0.3),\n",
        "\n",
        "  Conv2D(filters=64, kernel_size=(3,3), activation='relu', padding='same'),\n",
        "  Conv2D(filters=64, kernel_size=(3,3), activation='relu'),\n",
        "  MaxPool2D(),\n",
        "  Dropout(0.3),\n",
        "\n",
        "  Conv2D(filters=64, kernel_size=(3,3), activation='relu', padding='same'),\n",
        "  Conv2D(filters=64, kernel_size=(3,3), activation='relu'),\n",
        "  MaxPool2D(),\n",
        "  Dropout(0.3),\n",
        "\n",
        "  Flatten(),\n",
        "  Dense(1024, activation='relu'),\n",
        "  Dropout(0.3),\n",
        "\n",
        "  Dense(1024, activation='relu'),\n",
        "  Dropout(0.3),\n",
        "\n",
        "  Dense(num_classes, activation='softmax')\n",
        "])"
      ],
      "execution_count": 0,
      "outputs": []
    },
    {
      "cell_type": "code",
      "metadata": {
        "id": "EQeN8BI_Twkr",
        "colab_type": "code",
        "colab": {}
      },
      "source": [
        "model = get_cnn_v6(input_size, num_classes)\n",
        "model_trained = train_model(model, X_train, y_train)\n",
        "\n",
        "predict(model, X_test, y_test)"
      ],
      "execution_count": 0,
      "outputs": []
    },
    {
      "cell_type": "code",
      "metadata": {
        "id": "lEacECdGVa-3",
        "colab_type": "code",
        "outputId": "3fdc098b-3732-41e6-aacf-e5e10e4b33c2",
        "colab": {
          "base_uri": "https://localhost:8080/",
          "height": 51
        }
      },
      "source": [
        "model_trained.evaluate(X_test, y_test)"
      ],
      "execution_count": 11,
      "outputs": [
        {
          "output_type": "stream",
          "text": [
            "138/138 [==============================] - 1s 7ms/step - loss: 0.1499 - accuracy: 0.9769\n"
          ],
          "name": "stdout"
        },
        {
          "output_type": "execute_result",
          "data": {
            "text/plain": [
              "[0.14989346265792847, 0.9768707752227783]"
            ]
          },
          "metadata": {
            "tags": []
          },
          "execution_count": 11
        }
      ]
    },
    {
      "cell_type": "markdown",
      "metadata": {
        "id": "QIMm05v1ZPy7",
        "colab_type": "text"
      },
      "source": [
        "# Use of Hyperopt to optimise the hyperparameters\n"
      ]
    },
    {
      "cell_type": "code",
      "metadata": {
        "id": "HMhsNwj0X--u",
        "colab_type": "code",
        "colab": {}
      },
      "source": [
        "def get_model(params):\n",
        "  return Sequential([\n",
        "                     \n",
        "  Conv2D(filters=32, kernel_size=(3,3), activation='relu', input_shape=input_size),\n",
        "  Conv2D(filters=32, kernel_size=(3,3), activation='relu', padding='same'),\n",
        "  Conv2D(filters=32, kernel_size=(3,3), activation='relu', padding='same'),\n",
        "  MaxPool2D(),\n",
        "  Dropout(params['dropout_cnn_block_one']),\n",
        "\n",
        "  Conv2D(filters=64, kernel_size=(3,3), activation='relu', padding='same'),\n",
        "  Conv2D(filters=64, kernel_size=(3,3), activation='relu'),\n",
        "  Conv2D(filters=32, kernel_size=(3,3), activation='relu', padding='same'),\n",
        "  MaxPool2D(),\n",
        "  Dropout(params['dropout_cnn_block_two']),\n",
        "\n",
        "  Conv2D(filters=128, kernel_size=(3,3), activation='relu', padding='same'),\n",
        "  Conv2D(filters=128, kernel_size=(3,3), activation='relu'),\n",
        "  Conv2D(filters=32, kernel_size=(3,3), activation='relu', padding='same'),\n",
        "  MaxPool2D(),\n",
        "  Dropout(params['dropout_cnn_block_three']),\n",
        "\n",
        "  Flatten(),\n",
        "  Dense(1024, activation='relu'),\n",
        "  Dropout(params['dropout_dense_block_one']),\n",
        "\n",
        "  Dense(1024, activation='relu'),\n",
        "  Dropout(params['dropout_dense_block_two']),\n",
        "\n",
        "  Dense(num_classes, activation='softmax')\n",
        "])"
      ],
      "execution_count": 0,
      "outputs": []
    },
    {
      "cell_type": "code",
      "metadata": {
        "id": "QvsVaFrCVeAp",
        "colab_type": "code",
        "colab": {}
      },
      "source": [
        "model = get_cnn_v6(input_size, num_classes)\n",
        "model_trained = train_model(model, X_train, y_train)\n",
        "\n",
        "predict(model, X_test, y_test)"
      ],
      "execution_count": 0,
      "outputs": []
    },
    {
      "cell_type": "code",
      "metadata": {
        "id": "DjMwTYNiUfzw",
        "colab_type": "code",
        "colab": {}
      },
      "source": [
        "def func_object(params):\n",
        "  model = get_model(params)\n",
        "  model.compile(loss='categorical_crossentropy', optimizer='Adam', metrics = ['accuracy'])\n",
        "  \n",
        "  model.fit(\n",
        "      X_train, \n",
        "      y_train,\n",
        "      batch_size = 256,\n",
        "      epochs = 5,\n",
        "      verbose = 0,\n",
        "      )\n",
        "  score = model.evaluate(X_test, y_test, verbose=0)\n",
        "  accuracy = score[1]\n",
        "  print(params, 'accuracy={}'.format(accuracy))\n",
        "\n",
        "  return {'loss': -accuracy, 'status': STATUS_OK, 'model': model}"
      ],
      "execution_count": 0,
      "outputs": []
    },
    {
      "cell_type": "code",
      "metadata": {
        "id": "7Zeguc5uWGAD",
        "colab_type": "code",
        "colab": {}
      },
      "source": [
        "space = {\n",
        "    'batch_size': hp.quniform('batch_size', 100, 200, 10),\n",
        "    'dropout_cnn_block_one': hp.uniform('dropout_cnn_block_one', 0.3, 0.5),\n",
        "    'dropout_cnn_block_two': hp.uniform('dropout_cnn_block_two', 0.3, 0.5),\n",
        "    'dropout_cnn_block_three': hp.uniform('dropout_cnn_block_three', 0.3, 0.5),\n",
        "\n",
        "    'dropout_dense_block_one': hp.uniform('dropout_dense_block_one', 0.3, 0.7),\n",
        "    'dropout_dense_block_two': hp.uniform('dropout_dense_block_two', 0.3, 0.7),\n",
        "}\n",
        "\n",
        "best = fmin(\n",
        "    func_object,\n",
        "    space,\n",
        "    tpe.suggest,\n",
        "    30,\n",
        "    Trials()\n",
        ")"
      ],
      "execution_count": 0,
      "outputs": []
    }
  ]
}